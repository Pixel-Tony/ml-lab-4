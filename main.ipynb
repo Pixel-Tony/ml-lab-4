{
 "cells": [
  {
   "cell_type": "markdown",
   "metadata": {},
   "source": [
    "# Лабораторна робота №4\n",
    "## Виконав: Пєшков Антон, студент КМ-12 ФПМ\n",
    "1. Відкрити та зчитати наданий файл з даними.\n",
    "2. Визначити та вивести кількість записів.\n",
    "3. Вивести атрибути набору даних.\n",
    "4. З’ясувати збалансованість набору даних."
   ]
  },
  {
   "cell_type": "code",
   "execution_count": null,
   "metadata": {},
   "outputs": [],
   "source": [
    "import pandas as pd\n",
    "import matplotlib.pyplot as plt\n",
    "\n",
    "from math import sqrt\n",
    "from sklearn.model_selection import ShuffleSplit\n",
    "from sklearn.neighbors import KNeighborsClassifier\n",
    "from sklearn.metrics import (recall_score, matthews_corrcoef, precision_score,\n",
    "                             accuracy_score, f1_score, balanced_accuracy_score)\n",
    "\n",
    "\n",
    "plt.rcParams['font.family'] = 'Century Gothic'\n",
    "plt.rcParams['figure.dpi'] = 100\n",
    "plt.rcParams['axes.titlesize'] = 20\n",
    "plt.rcParams['figure.figsize'] = (8, 6)\n",
    "plt.rcParams['figure.facecolor'] = '#e3f3fc'\n",
    "COLORS = ['#00a876', '#edb724']\n",
    "\n",
    "\n",
    "def _wrap(f): return lambda yt, yp: f(yt, yp, average=\"weighted\")\n",
    "\n",
    "\n",
    "METRICS = {\n",
    "    accuracy_score: 'Accuracy',\n",
    "    _wrap(\n",
    "        lambda *x, **y: precision_score(*x, **y, zero_division=0)\n",
    "    ): 'Precision',\n",
    "    _wrap(recall_score): 'Recall',\n",
    "    matthews_corrcoef: 'MCC',\n",
    "    _wrap(f1_score): 'F1 score',\n",
    "    balanced_accuracy_score: 'Bal. accuracy'\n",
    "}"
   ]
  },
  {
   "cell_type": "code",
   "execution_count": null,
   "metadata": {},
   "outputs": [],
   "source": [
    "df = pd.read_csv(\"dataset2_l4.txt\")\n",
    "\n",
    "print(\"Кількість записів:\", len(df))\n",
    "print(\"Атрибути:\", *df.columns)\n",
    "print(\"Кількості класів:\")\n",
    "print(df[\"Class\"].value_counts().to_string(header=0))"
   ]
  },
  {
   "cell_type": "markdown",
   "metadata": {},
   "source": [
    "5. Отримати двадцять варіантів перемішування набору даних та розділення його на навчальну ( тренувальну) та тестову вибірки, використовуючи функцію ShuffleSplit. Сформувати начальну та тестові вибірки на основі обраного користувачем варіанту."
   ]
  },
  {
   "cell_type": "code",
   "execution_count": null,
   "metadata": {},
   "outputs": [],
   "source": [
    "split = ShuffleSplit(20, test_size=0.2, random_state=1337)\n",
    "\n",
    "X, Y = df.iloc[:, df.columns != \"Class\"], df.Class\n",
    "\n",
    "train_inds, test_inds = next(split.split(X, Y))\n",
    "\n",
    "X_TRAIN, Y_TRAIN = X.iloc[train_inds], Y.iloc[train_inds]\n",
    "X_TEST, Y_TEST = X.iloc[test_inds], Y.iloc[test_inds]"
   ]
  },
  {
   "cell_type": "markdown",
   "metadata": {},
   "source": [
    "6. Використовуючи функцію KNeighborsClassifier бібліотеки scikit-learn, збудувати класифікаційну модель на основі методу k найближчих сусідів (кількість сусідів обрати самостійно, вибір аргументувати) та навчити її на тренувальній вибірці, вважаючи, що цільова характеристика визначається стовпчиком Class, а всі інші виступають в ролі вихідних аргументів."
   ]
  },
  {
   "cell_type": "code",
   "execution_count": null,
   "metadata": {},
   "outputs": [],
   "source": [
    "# def find_i_optimal():\n",
    "#     KS = [*range(2, 20)]\n",
    "#     MX = {name: (k, []) for k, name in METRICS.items()}\n",
    "\n",
    "#     for k in KS:\n",
    "#         y_pred = KNeighborsClassifier(k)\\\n",
    "#             .fit(X_TRAIN, Y_TRAIN)\\\n",
    "#             .predict(X_TEST)\n",
    "\n",
    "#         [vals.append(metric(Y_TEST, y_pred)) for (metric, vals) in MX.values()]\n",
    "\n",
    "#     [plt.plot(KS, y, label=label) for label, (_, y) in MX.items()]\n",
    "#     plt.legend()\n",
    "#     return pd.DataFrame(\n",
    "#         {name: a for (name, (_, a)) in MX.items()}\n",
    "#         | {\"k\": KS}\n",
    "#     ).set_index(\"k\")\n",
    "\n",
    "# x = find_i_optimal()\n",
    "# display(x.head(5))\n",
    "# k = x.idxmax().mode()[0]\n",
    "k = 3\n",
    "\n",
    "model = KNeighborsClassifier(k)\n",
    "model.fit(X_TRAIN, Y_TRAIN)"
   ]
  },
  {
   "cell_type": "code",
   "execution_count": null,
   "metadata": {},
   "outputs": [],
   "source": [
    "def plot_metrics(x, y_true, title):\n",
    "    y_pred = model.predict(x)\n",
    "    metrics = {\n",
    "        'id': [*METRICS.values()],\n",
    "        'value': [metric(y_true, y_pred) for metric in METRICS]\n",
    "    }\n",
    "    xs = range(len(METRICS))\n",
    "    ax = plt.subplot()\n",
    "    ax.bar(xs, metrics['value'], color=COLORS[1])\n",
    "    [\n",
    "        ax.text(xi, hi, f\"{hi:.3f}\", ha=\"center\", va=\"bottom\")\n",
    "        for xi, hi in zip(xs, metrics['value'])\n",
    "    ]\n",
    "    ax.set_title(title)\n",
    "    ax.set_ylim(0, 1.02)\n",
    "    ax.set_xticks(xs, metrics['id'])"
   ]
  },
  {
   "cell_type": "markdown",
   "metadata": {},
   "source": [
    "7. Обчислити класифікаційні метрики збудованої моделі для тренувальної та тестової вибірки. Представити результати роботи моделі на тестовій вибірці графічно."
   ]
  },
  {
   "cell_type": "code",
   "execution_count": null,
   "metadata": {},
   "outputs": [],
   "source": [
    "plot_metrics(X_TRAIN, Y_TRAIN,\n",
    "             'Метрики ефективності класифікатора на тренувальній вибірці')"
   ]
  },
  {
   "cell_type": "code",
   "execution_count": null,
   "metadata": {},
   "outputs": [],
   "source": [
    "plot_metrics(X_TEST, Y_TEST,\n",
    "             'Метрики ефективності класифікатора на тестовій вибірці')"
   ]
  },
  {
   "cell_type": "markdown",
   "metadata": {},
   "source": [
    "8. Обрати алгоритм KDTree та з’ясувати вплив розміру листа (від 20 до  200 з кроком 5) на результати класифікації. Результати представити графічно."
   ]
  },
  {
   "cell_type": "code",
   "execution_count": null,
   "metadata": {},
   "outputs": [],
   "source": [
    "def leaf_size_impact():\n",
    "    mx = {p: [] for p in METRICS.items()}\n",
    "\n",
    "    for ls in range(20, 201, 5):\n",
    "        mod = KNeighborsClassifier(3, algorithm='kd_tree', leaf_size=ls)\n",
    "        mod.fit(X_TEST, Y_TEST)\n",
    "\n",
    "        y_pred = mod.predict(X_TEST)\n",
    "        [arr.append(meth(Y_TEST, y_pred)) for (meth, _), arr in mx.items()]\n",
    "\n",
    "    xs = range(20, 201, 5)\n",
    "    ax = plt.subplot()\n",
    "    ax.set_title(\"Метрики класифікатора в залежності від розміру листа\")\n",
    "    [ax.plot(xs, y, label=label) for (_, label), y in mx.items()]\n",
    "    ax.legend()\n",
    "\n",
    "leaf_size_impact()"
   ]
  }
 ],
 "metadata": {
  "kernelspec": {
   "display_name": "Python 3",
   "language": "python",
   "name": "python3"
  },
  "language_info": {
   "codemirror_mode": {
    "name": "ipython",
    "version": 3
   },
   "file_extension": ".py",
   "mimetype": "text/x-python",
   "name": "python",
   "nbconvert_exporter": "python",
   "pygments_lexer": "ipython3",
   "version": "3.10.1"
  }
 },
 "nbformat": 4,
 "nbformat_minor": 2
}
